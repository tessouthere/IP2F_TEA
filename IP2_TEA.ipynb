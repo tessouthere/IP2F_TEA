{
 "cells": [
  {
   "cell_type": "markdown",
   "id": "76b82f95",
   "metadata": {},
   "source": [
    "# Individual Project 2 - NumPy\n",
    "## Tess Anderson\n",
    "### Version 1\n",
    "#### Spring 2023 - DS160"
   ]
  },
  {
   "cell_type": "code",
   "execution_count": 6,
   "id": "daf74c5c",
   "metadata": {},
   "outputs": [
    {
     "data": {
      "text/plain": [
       "array([[10, 20],\n",
       "       [30, 40]])"
      ]
     },
     "execution_count": 6,
     "metadata": {},
     "output_type": "execute_result"
    }
   ],
   "source": [
    "# a. create a 2-by-2 NumPy array with the elements 10,20,30,40. \n",
    "import numpy as np\n",
    "arrayA=np.array([10,20,30,40]).reshape((2,2))\n",
    "arrayA"
   ]
  },
  {
   "cell_type": "code",
   "execution_count": 10,
   "id": "b426dbc3",
   "metadata": {},
   "outputs": [
    {
     "data": {
      "text/plain": [
       "array([[ 100,  400],\n",
       "       [ 900, 1600]])"
      ]
     },
     "execution_count": 10,
     "metadata": {},
     "output_type": "execute_result"
    }
   ],
   "source": [
    "# i. square every element of the array:\n",
    "np.square(arrayA)"
   ]
  },
  {
   "cell_type": "code",
   "execution_count": 11,
   "id": "45ffea1c",
   "metadata": {},
   "outputs": [
    {
     "data": {
      "text/plain": [
       "array([[110, 120],\n",
       "       [130, 140]])"
      ]
     },
     "execution_count": 11,
     "metadata": {},
     "output_type": "execute_result"
    }
   ],
   "source": [
    "# ii. add 100 to every element of the array:\n",
    "np.add(arrayA,100)"
   ]
  },
  {
   "cell_type": "code",
   "execution_count": 12,
   "id": "f91ffb7b",
   "metadata": {},
   "outputs": [
    {
     "data": {
      "text/plain": [
       "array([[ 50, 100],\n",
       "       [150, 200]])"
      ]
     },
     "execution_count": 12,
     "metadata": {},
     "output_type": "execute_result"
    }
   ],
   "source": [
    "# iii. multiply every element of the array by 5:\n",
    "np.multiply(arrayA,5)"
   ]
  },
  {
   "cell_type": "code",
   "execution_count": 13,
   "id": "c701eb9e",
   "metadata": {},
   "outputs": [
    {
     "data": {
      "text/plain": [
       "array([[3.16227766, 4.47213595],\n",
       "       [5.47722558, 6.32455532]])"
      ]
     },
     "execution_count": 13,
     "metadata": {},
     "output_type": "execute_result"
    }
   ],
   "source": [
    "#iv. calculate the sqaure root of each element in the array:\n",
    "np.sqrt(arrayA)"
   ]
  },
  {
   "cell_type": "code",
   "execution_count": 18,
   "id": "2373fbec",
   "metadata": {},
   "outputs": [
    {
     "data": {
      "text/plain": [
       "array([[ 3,  6,  9],\n",
       "       [12, 15, 18],\n",
       "       [21, 24, 27]])"
      ]
     },
     "execution_count": 18,
     "metadata": {},
     "output_type": "execute_result"
    }
   ],
   "source": [
    "# b. create a 3-by-3 array containing integers from 3 to 27 in multiples of 3.\n",
    "array1=np.arange(3,28,3).reshape(3,3)\n",
    "array1"
   ]
  },
  {
   "cell_type": "code",
   "execution_count": 33,
   "id": "b35c8121",
   "metadata": {},
   "outputs": [
    {
     "data": {
      "text/plain": [
       "array([[10, 11, 12],\n",
       "       [13, 14, 15],\n",
       "       [16, 17, 18]])"
      ]
     },
     "execution_count": 33,
     "metadata": {},
     "output_type": "execute_result"
    }
   ],
   "source": [
    "# b. (continued) create a second array with 9 elements evenly spaced between 10 and 20\n",
    "array2=np.arange(10,19).reshape(3,3)\n",
    "array2"
   ]
  },
  {
   "cell_type": "code",
   "execution_count": 34,
   "id": "f4f67ca8",
   "metadata": {},
   "outputs": [
    {
     "data": {
      "text/plain": [
       "array([[ 30,  66, 108],\n",
       "       [156, 210, 270],\n",
       "       [336, 408, 486]])"
      ]
     },
     "execution_count": 34,
     "metadata": {},
     "output_type": "execute_result"
    }
   ],
   "source": [
    "# b. (continued) multiply these arrays and display the output:\n",
    "np.multiply(array1,array2)"
   ]
  },
  {
   "cell_type": "code",
   "execution_count": 38,
   "id": "fa0e7675",
   "metadata": {},
   "outputs": [],
   "source": [
    "# c. read the files in and stack them into a unified dataset\n",
    "p1=np.load('process1.npy')\n",
    "p2=np.load('process2.npy')\n",
    "p3=np.load('process3.npy')\n",
    "p4=np.load('process4.npy')\n",
    "p5=np.load('process5.npy')"
   ]
  },
  {
   "cell_type": "code",
   "execution_count": 49,
   "id": "4aaf4c0b",
   "metadata": {},
   "outputs": [
    {
     "name": "stdout",
     "output_type": "stream",
     "text": [
      "[[52 12 81  0 58]\n",
      " [96  4 61 16 43]\n",
      " [38 96 45 17 58]\n",
      " [97 21 22 25  6]\n",
      " [77  6 19  2 74]]\n",
      "The means for each column are: [72.  27.8 45.6 12.  47.8]\n"
     ]
    }
   ],
   "source": [
    "UnifiedDataset=np.vstack((p1,p2,p3,p4,p5))\n",
    "print(UnifiedDataset)\n",
    "print('The means for each column are:',np.mean(UnifiedDataset,axis=0))"
   ]
  }
 ],
 "metadata": {
  "kernelspec": {
   "display_name": "Python 3 (ipykernel)",
   "language": "python",
   "name": "python3"
  },
  "language_info": {
   "codemirror_mode": {
    "name": "ipython",
    "version": 3
   },
   "file_extension": ".py",
   "mimetype": "text/x-python",
   "name": "python",
   "nbconvert_exporter": "python",
   "pygments_lexer": "ipython3",
   "version": "3.9.13"
  }
 },
 "nbformat": 4,
 "nbformat_minor": 5
}
